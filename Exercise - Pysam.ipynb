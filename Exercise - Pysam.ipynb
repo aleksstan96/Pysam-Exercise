{
 "cells": [
  {
   "cell_type": "code",
   "execution_count": 130,
   "id": "a21c8b9b",
   "metadata": {},
   "outputs": [],
   "source": [
    "import pysam\n",
    "pysam.index(\"merged-normal.bam\")\n",
    "samfile = pysam.AlignmentFile(\"merged-normal.bam\", \"rb\")"
   ]
  },
  {
   "cell_type": "code",
   "execution_count": 131,
   "id": "c6a0b3c2",
   "metadata": {},
   "outputs": [
    {
     "name": "stdout",
     "output_type": "stream",
     "text": [
      "HD: {'VN': '1.0', 'SO': 'coordinate', 'GO': 'none'}\n"
     ]
    }
   ],
   "source": [
    "# header inspection\n",
    "header = samfile.header\n",
    "\n",
    "for key, value in header.items():\n",
    "    if key == 'HD':\n",
    "        print(f\"{key}: {value}\")"
   ]
  },
  {
   "cell_type": "code",
   "execution_count": 132,
   "id": "0d1bbbed",
   "metadata": {},
   "outputs": [
    {
     "name": "stdout",
     "output_type": "stream",
     "text": [
      "D0MBKACXX120224:2:2206:17237:35667\t99\t#20\t9483248\t27\t76M\t#20\t9483399\t227\tCTTTTCAAACAGTATCTATGCCTGCCAAATGTGAACATATAAAAAAAAACCAGAATGTGCCATTCTGATTTAAACT\tarray('B', [32, 33, 29, 29, 33, 37, 32, 37, 35, 40, 35, 41, 30, 31, 31, 41, 35, 30, 31, 39, 39, 38, 35, 41, 39, 38, 34, 36, 36, 31, 41, 31, 41, 33, 36, 40, 35, 31, 32, 31, 32, 36, 37, 36, 36, 36, 36, 36, 37, 40, 38, 35, 41, 34, 37, 31, 42, 31, 40, 38, 37, 33, 31, 31, 38, 36, 40, 34, 31, 34, 31, 30, 33, 30, 32, 33])\t[('XA', 'GL000217.1,-110755,76M,1;'), ('BD', 'NNNNNNNNNNNNNNNNNNNNNNNNNNNNNNNNNNNNNNNNNNNNNNNNNNNNNNNNNNNNNNNNNNNNNNNNNNNN'), ('MD', '76'), ('RG', '1'), ('BI', 'NNNNNNNNNNNNNNNNNNNNNNNNNNNNNNNNNNNNNNNNNNNNNNNNNNNNNNNNNNNNNNNNNNNNNNNNNNNN'), ('NM', 0), ('MQ', 27), ('AS', 76), ('XS', 71)]\n"
     ]
    }
   ],
   "source": [
    "for i, read in enumerate(samfile.fetch()):\n",
    "    if i==0:\n",
    "        print(read)"
   ]
  },
  {
   "cell_type": "code",
   "execution_count": 133,
   "id": "38bc966b",
   "metadata": {},
   "outputs": [
    {
     "name": "stdout",
     "output_type": "stream",
     "text": [
      "Number of unmapped reads:  12290\n"
     ]
    }
   ],
   "source": [
    "#How many unmapped reads are in the file?\n",
    "def check_if_unmapped(read):\n",
    "    return not(read.is_mapped)\n",
    "\n",
    "num_unmapped = samfile.count(read_callback=check_if_unmapped)\n",
    "print(\"Number of unmapped reads: \", num_unmapped)"
   ]
  },
  {
   "cell_type": "code",
   "execution_count": 134,
   "id": "e38a4739",
   "metadata": {},
   "outputs": [
    {
     "name": "stdout",
     "output_type": "stream",
     "text": [
      "Number of total reads:  1717401\n"
     ]
    }
   ],
   "source": [
    "# Total number of reads\n",
    "num_total = samfile.count()\n",
    "print(\"Number of total reads: \", num_total)"
   ]
  },
  {
   "cell_type": "code",
   "execution_count": 135,
   "id": "28f2e66a",
   "metadata": {},
   "outputs": [
    {
     "name": "stdout",
     "output_type": "stream",
     "text": [
      "Number of reads with mapping quality 0:  79442\n"
     ]
    }
   ],
   "source": [
    "# Number of reads with mapping quality 0\n",
    "def check_zero_mapping_quality(read):\n",
    "    return read.mapping_quality==0\n",
    "\n",
    "num_zero_quality = samfile.count(read_callback=check_zero_mapping_quality)\n",
    "print(\"Number of reads with mapping quality 0: \", num_zero_quality)"
   ]
  },
  {
   "cell_type": "code",
   "execution_count": 136,
   "id": "254c07b6",
   "metadata": {},
   "outputs": [
    {
     "name": "stdout",
     "output_type": "stream",
     "text": [
      "Average mapping quality for all the reads:  55.854162190426116\n"
     ]
    }
   ],
   "source": [
    "# Average mapping quality for all the reads\n",
    "def avg_mapping_quality(samfile):\n",
    "    summ = 0\n",
    "    cnt = 0\n",
    "    for i, read in enumerate(samfile.fetch()):\n",
    "        summ += read.mapping_quality\n",
    "        cnt += 1\n",
    "    return summ/cnt\n",
    "\n",
    "avg_mapping_qual = avg_mapping_quality(samfile)\n",
    "print(\"Average mapping quality for all the reads: \", avg_mapping_qual)"
   ]
  },
  {
   "cell_type": "code",
   "execution_count": 137,
   "id": "62149157",
   "metadata": {},
   "outputs": [
    {
     "name": "stdout",
     "output_type": "stream",
     "text": [
      "Average mapping quality if reads with 0 mapp quality are filtered out:  58.563122764367115\n"
     ]
    }
   ],
   "source": [
    "# Average mapping quality if reads with 0 mapp quality are filtered out\n",
    "def avg_mapping_quality_filtered(samfile):\n",
    "    summ = 0\n",
    "    cnt = 0\n",
    "    for i, read in enumerate(samfile.fetch()):\n",
    "        if not(check_zero_mapping_quality(read)):\n",
    "            summ += read.mapping_quality\n",
    "            cnt += 1\n",
    "    return summ/cnt\n",
    "\n",
    "avg_mapping_qual_filtered = avg_mapping_quality_filtered(samfile)\n",
    "print(\"Average mapping quality if reads with 0 mapp quality are filtered out: \", avg_mapping_qual_filtered)"
   ]
  },
  {
   "cell_type": "code",
   "execution_count": 138,
   "id": "88c6ba70",
   "metadata": {},
   "outputs": [],
   "source": [
    "samfile.close()"
   ]
  }
 ],
 "metadata": {
  "kernelspec": {
   "display_name": "Python 3 (ipykernel)",
   "language": "python",
   "name": "python3"
  },
  "language_info": {
   "codemirror_mode": {
    "name": "ipython",
    "version": 3
   },
   "file_extension": ".py",
   "mimetype": "text/x-python",
   "name": "python",
   "nbconvert_exporter": "python",
   "pygments_lexer": "ipython3",
   "version": "3.9.13"
  }
 },
 "nbformat": 4,
 "nbformat_minor": 5
}
